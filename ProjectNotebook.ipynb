{
 "cells": [
  {
   "cell_type": "markdown",
   "metadata": {},
   "source": [
    "# Project Description"
   ]
  },
  {
   "cell_type": "markdown",
   "metadata": {},
   "source": [
    "# **SLOTS-O-FUN FOR ALL**\n",
    "\n",
    "#### Do you ever yearn for the casinos of Las Vegas, wondering how to throw away hundreds, if not thousands of dollars? I know for a fact that I do. I designed this simple slot machine for anyone to use mostly because, for legal reasons, I cannot gamble (I am 19). This slot machine has a bit of a ✨ personality ✨, but at its core, it functions as you would expect. As a forewarning, though this slot machine is virtual, you still will get scammed because that's just how casinos work. I wish you the best of luck and hopefully you strike it big! \n",
    "\n",
    "## Gameplay!\n",
    "\n",
    "#### You are first greeted by Slots-O-Fun, who will ask for your name. Then, you are given 100 dollars to start with. You can bet any amount you want by typing it in the textbox. Continue to bet until you run out of money, where you can either leave your computer and give up, adjust your bet, or go visit the virtual ATM. \n",
    "\n",
    "## How to Win\n",
    "\n",
    "#### Easy. Get three of the same emoji and you win. The rarer the emoji, the more you win. Your payout is calculated by multiplying your bet by the multiplier for that jackpot.  If you get two of same emoji, you win nothing. If you have no matching emojis, you also get nothing. \n",
    "\n",
    "### Multipliers\n",
    "\n",
    "#### 🍇 = 20x\n",
    "#### 🍒 = 30x\n",
    "#### 🍋 = 40x\n",
    "#### 🎰 = 100x\n",
    "#### 💎 = 250x\n",
    "#### 7️⃣ = 10000x\n",
    "\n",
    "####  Your bets are supposed to be numbers like \"19,\" but try some invalid inputs and see what Slots-O-Fun has to say about it. \n",
    "#### Goodluck and have fun!"
   ]
  },
  {
   "cell_type": "markdown",
   "metadata": {},
   "source": [
    "## Project Code\n",
    "\n",
    "If it makes sense for your project, you can have code and outputs here in the notebook as well."
   ]
  },
  {
   "cell_type": "code",
   "execution_count": 1,
   "metadata": {},
   "outputs": [],
   "source": [
    "from my_module.functions import slots_o_fun"
   ]
  },
  {
   "cell_type": "code",
   "execution_count": null,
   "metadata": {
    "scrolled": true
   },
   "outputs": [
    {
     "name": "stdout",
     "output_type": "stream",
     "text": [
      "SLOTS-O-FUN: Welcome to \"SLOTS-O-FUN!\", where You WILL have slots-o-fun haha...or will you? Whatever.\n",
      "SLOTS-O-FUN: Let's get back to formalities. What is your name, dear player?\n",
      "THE GAMBLER: \tBri\n",
      "SLOTS-O-FUN: Nice to meet you Bri! You came into a casino with no money, how strange. As a gift, here is $100, just for you!\n",
      "SLOTS-O-FUN: So, how much are ya bettin today?\n",
      "THE GAMBLER: \t100\n",
      "SLOTS-O-FUN: Your balance is $100.\n",
      "['🍇', '🍒', '🍒']\n",
      "SLOTS-O-FUN: 🟥 womp womp 🟥. You lost. Life ain't fair man.\n",
      "SLOTS-O-FUN: Your balance is $0.\n",
      "-------------------------------------------------\n",
      "SLOTS-O-FUN: So, how much are ya bettin today?\n",
      "THE GAMBLER: \t10\n",
      "SLOTS-O-FUN: Your balance is $0.\n",
      "SLOTS-O-FUN: Congrats, you are broke! Come back later, bet within your budget, or type \"ATM\" for a surprise hehe.\n",
      "THE GAMBLER: \tATM\n",
      "ATM-O-FUN: Money ain't free yknow? Ah what the heck, how much would you like to withdraw?\n",
      "THE GAMBLER: \t100\n",
      "['🎰', '7️⃣', '🍇']\n",
      "SLOTS-O-FUN: 🟥 womp womp 🟥. You lost. Life ain't fair man.\n",
      "SLOTS-O-FUN: Your balance is $90.\n",
      "-------------------------------------------------\n",
      "SLOTS-O-FUN: So, how much are ya bettin today?\n",
      "THE GAMBLER: \t91\n",
      "SLOTS-O-FUN: Your balance is $90.\n",
      "SLOTS-O-FUN: Congrats, you are broke! Come back later, bet within your budget, or type \"ATM\" for a surprise hehe.\n",
      "THE GAMBLER: \t15\n",
      "['🍇', '🍒', '7️⃣']\n",
      "SLOTS-O-FUN: 🟥 womp womp 🟥. You lost. Life ain't fair man.\n",
      "SLOTS-O-FUN: Your balance is $75.\n",
      "-------------------------------------------------\n",
      "SLOTS-O-FUN: So, how much are ya bettin today?\n",
      "THE GAMBLER: \t\n",
      "SLOTS-O-FUN: Yikes, yknow money can only be numbers like \"10\"? Right? Yeah? Try again.\n",
      "THE GAMBLER: \t10\n",
      "SLOTS-O-FUN: Your balance is $75.\n",
      "['🍒', '🍋', '🎰']\n",
      "SLOTS-O-FUN: 🟥 womp womp 🟥. You lost. Life ain't fair man.\n",
      "SLOTS-O-FUN: Your balance is $65.\n",
      "-------------------------------------------------\n",
      "SLOTS-O-FUN: So, how much are ya bettin today?\n",
      "THE GAMBLER: \t10\n",
      "SLOTS-O-FUN: Your balance is $65.\n",
      "['🍇', '💎', '🍋']\n",
      "SLOTS-O-FUN: 🟥 womp womp 🟥. You lost. Life ain't fair man.\n",
      "SLOTS-O-FUN: Your balance is $55.\n",
      "-------------------------------------------------\n",
      "SLOTS-O-FUN: So, how much are ya bettin today?\n",
      "THE GAMBLER: \t10\n",
      "SLOTS-O-FUN: Your balance is $55.\n",
      "['💎', '🍇', '🍇']\n",
      "SLOTS-O-FUN: 🟥 womp womp 🟥. You lost. Life ain't fair man.\n",
      "SLOTS-O-FUN: Your balance is $45.\n",
      "-------------------------------------------------\n",
      "SLOTS-O-FUN: So, how much are ya bettin today?\n",
      "THE GAMBLER: \t10\n",
      "SLOTS-O-FUN: Your balance is $45.\n",
      "['🍋', '🍒', '🎰']\n",
      "SLOTS-O-FUN: 🟥 womp womp 🟥. You lost. Life ain't fair man.\n",
      "SLOTS-O-FUN: Your balance is $35.\n",
      "-------------------------------------------------\n",
      "SLOTS-O-FUN: So, how much are ya bettin today?\n",
      "THE GAMBLER: \t10\n",
      "SLOTS-O-FUN: Your balance is $35.\n",
      "['🍇', '🍒', '🍒']\n",
      "SLOTS-O-FUN: 🟥 womp womp 🟥. You lost. Life ain't fair man.\n",
      "SLOTS-O-FUN: Your balance is $25.\n",
      "-------------------------------------------------\n",
      "SLOTS-O-FUN: So, how much are ya bettin today?\n",
      "THE GAMBLER: \t10\n",
      "SLOTS-O-FUN: Your balance is $25.\n",
      "['🍇', '🍇', '🍋']\n",
      "SLOTS-O-FUN: 🟥 womp womp 🟥. You lost. Life ain't fair man.\n",
      "SLOTS-O-FUN: Your balance is $15.\n",
      "-------------------------------------------------\n",
      "SLOTS-O-FUN: So, how much are ya bettin today?\n",
      "THE GAMBLER: \t10\n",
      "SLOTS-O-FUN: Your balance is $15.\n",
      "['🍇', '🍒', '💎']\n",
      "SLOTS-O-FUN: 🟥 womp womp 🟥. You lost. Life ain't fair man.\n",
      "SLOTS-O-FUN: Your balance is $5.\n",
      "-------------------------------------------------\n",
      "SLOTS-O-FUN: So, how much are ya bettin today?\n",
      "THE GAMBLER: \t10\n",
      "SLOTS-O-FUN: Your balance is $5.\n",
      "SLOTS-O-FUN: Congrats, you are broke! Come back later, bet within your budget, or type \"ATM\" for a surprise hehe.\n",
      "THE GAMBLER: \tATM\n",
      "ATM-O-FUN: Money ain't free yknow? Ah what the heck, how much would you like to withdraw?\n",
      "THE GAMBLER: \tdog\n",
      "SLOTS-O-FUN: Yikes, yknow money can only be numbers like \"10\"? Right? Yeah? Try again.\n",
      "THE GAMBLER: \t10\n",
      "['🍇', '🍇', '🍒']\n",
      "SLOTS-O-FUN: 🟥 womp womp 🟥. You lost. Life ain't fair man.\n",
      "SLOTS-O-FUN: Your balance is $5.\n",
      "-------------------------------------------------\n",
      "SLOTS-O-FUN: So, how much are ya bettin today?\n",
      "THE GAMBLER: \t1\n",
      "SLOTS-O-FUN: Your balance is $5.\n",
      "['🎰', '🍋', '💎']\n",
      "SLOTS-O-FUN: 🟥 womp womp 🟥. You lost. Life ain't fair man.\n",
      "SLOTS-O-FUN: Your balance is $4.\n",
      "-------------------------------------------------\n",
      "SLOTS-O-FUN: So, how much are ya bettin today?\n",
      "THE GAMBLER: \t1\n",
      "SLOTS-O-FUN: Your balance is $4.\n",
      "['💎', '🍇', '🍋']\n",
      "SLOTS-O-FUN: 🟥 womp womp 🟥. You lost. Life ain't fair man.\n",
      "SLOTS-O-FUN: Your balance is $3.\n",
      "-------------------------------------------------\n",
      "SLOTS-O-FUN: So, how much are ya bettin today?\n",
      "THE GAMBLER: \t1\n",
      "SLOTS-O-FUN: Your balance is $3.\n",
      "['🍒', '🍇', '🍇']\n",
      "SLOTS-O-FUN: 🟥 womp womp 🟥. You lost. Life ain't fair man.\n",
      "SLOTS-O-FUN: Your balance is $2.\n",
      "-------------------------------------------------\n",
      "SLOTS-O-FUN: So, how much are ya bettin today?\n",
      "THE GAMBLER: \t1\n",
      "SLOTS-O-FUN: Your balance is $2.\n",
      "['7️⃣', '🍇', '🍒']\n",
      "SLOTS-O-FUN: 🟥 womp womp 🟥. You lost. Life ain't fair man.\n",
      "SLOTS-O-FUN: Your balance is $1.\n",
      "-------------------------------------------------\n",
      "SLOTS-O-FUN: So, how much are ya bettin today?\n",
      "THE GAMBLER: \t1\n",
      "SLOTS-O-FUN: Your balance is $1.\n",
      "['💎', '💎', '💎']\n",
      "SLOTS-O-FUN: 🏆YOU🏆ARE🏆A🏆WINNER!!!!🏆 WHO WOULDA THOUGHT!!?!?!?! Buy yourself a corvette or whatever it is kids these days are driving!\n",
      "SLOTS-O-FUN: Your balance is $250.\n",
      "-------------------------------------------------\n",
      "SLOTS-O-FUN: So, how much are ya bettin today?\n"
     ]
    }
   ],
   "source": [
    "# Run this cell to gamble.\n",
    "slots_o_fun()"
   ]
  },
  {
   "cell_type": "markdown",
   "metadata": {
    "scrolled": false
   },
   "source": []
  },
  {
   "cell_type": "markdown",
   "metadata": {},
   "source": [
    "#### Extra Credit (*optional*)\n",
    "\n",
    "Replace all of this text with a brief explanation (~3 sentences) of: \n",
    "1. My experience with Python was nonexistent before this course. The most coding experience I had was watching a singular YouTube Tutorial on how to write print(\"hello world\") using Lua because I wanted to be a Roblox game developer. Since then, I have not attempted coding and I am generally known as the \"tech-stupid\" friend. \n",
    "\n",
    "\n",
    "2. I challenged myself by creating a slot machine because blackjack was banned and I wanted to make a gambling machine. Rather than making a simple slot machine, I wanted to include a virtual ATM. It was incredibly difficult to create prompts for the user to input the correct variable, but there are several functions that ensure that the only input from the user is a number like \"17.\" I spent close to 25 hours working on this project, learning new methods and the power of perseverence to gamble without spending any real money. I hope you liked the project! "
   ]
  }
 ],
 "metadata": {
  "kernelspec": {
   "display_name": "Python 3 (ipykernel)",
   "language": "python",
   "name": "python3"
  },
  "language_info": {
   "codemirror_mode": {
    "name": "ipython",
    "version": 3
   },
   "file_extension": ".py",
   "mimetype": "text/x-python",
   "name": "python",
   "nbconvert_exporter": "python",
   "pygments_lexer": "ipython3",
   "version": "3.9.5"
  }
 },
 "nbformat": 4,
 "nbformat_minor": 2
}
